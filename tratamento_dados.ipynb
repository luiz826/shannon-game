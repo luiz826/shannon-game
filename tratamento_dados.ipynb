{
 "cells": [
  {
   "cell_type": "code",
   "execution_count": 17,
   "metadata": {},
   "outputs": [],
   "source": [
    "\n",
    "\n",
    "with open('resultados.txt', 'r') as f:\n",
    "    resultados = f.readlines()\n"
   ]
  },
  {
   "cell_type": "code",
   "execution_count": 18,
   "metadata": {},
   "outputs": [
    {
     "data": {
      "text/plain": [
       "['amor: [1, 2, 5, 1]\\n',\n",
       " 'jesus: [21, 2, 1, 1, 2]\\n',\n",
       " 'terceira parte : [20, 1, 3, 12, 4, 3, 6, 1, 27, 8, 1, 1, 4, 1, 8]\\n',\n",
       " 'ninguem sabe na: [6, 4, 2, 24, 6, 9, 2, 25, 10, 5, 11, 7, 27, 5, 3]\\n',\n",
       " 'aqui estou para: [1, 24, 7, 1, 27, 10, 1, 1, 7, 8, 1, 23, 1, 1, 1]\\n']"
      ]
     },
     "execution_count": 18,
     "metadata": {},
     "output_type": "execute_result"
    }
   ],
   "source": [
    "resultados"
   ]
  },
  {
   "cell_type": "code",
   "execution_count": 19,
   "metadata": {},
   "outputs": [
    {
     "name": "stdout",
     "output_type": "stream",
     "text": [
      "['amor', 'jesus', 'terceira parte ', 'ninguem sabe na', 'aqui estou para']\n",
      "[[1, 2, 5, 1], [21, 2, 1, 1, 2], [20, 1, 3, 12, 4, 3, 6, 1, 27, 8, 1, 1, 4, 1, 8], [6, 4, 2, 24, 6, 9, 2, 25, 10, 5, 11, 7, 27, 5, 3], [1, 24, 7, 1, 27, 10, 1, 1, 7, 8, 1, 23, 1, 1, 1]]\n"
     ]
    }
   ],
   "source": [
    "sentences = []\n",
    "num_try = []\n",
    "for resultado in resultados:\n",
    "    sentence, try_ = resultado.split(':')\n",
    "    sentences.append(sentence)\n",
    "\n",
    "    try_ = try_.strip()\n",
    "    try_ = try_.split(',')\n",
    "    try_[0] = try_[0].split('[')[1]\n",
    "    try_[-1] = try_[-1].split(']')[0]\n",
    "\n",
    "    try_ = [int(x) for x in try_]\n",
    "\n",
    "    # try_ = [int(x) for x in try_]\n",
    "    # print(try_)\n",
    "\n",
    "    num_try.append(try_)\n",
    "\n",
    "\n",
    "print(sentences)\n",
    "print(num_try)"
   ]
  }
 ],
 "metadata": {
  "kernelspec": {
   "display_name": "base",
   "language": "python",
   "name": "python3"
  },
  "language_info": {
   "codemirror_mode": {
    "name": "ipython",
    "version": 3
   },
   "file_extension": ".py",
   "mimetype": "text/x-python",
   "name": "python",
   "nbconvert_exporter": "python",
   "pygments_lexer": "ipython3",
   "version": "3.9.13"
  }
 },
 "nbformat": 4,
 "nbformat_minor": 2
}
