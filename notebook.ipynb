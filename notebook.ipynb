{
 "cells": [
  {
   "cell_type": "code",
   "execution_count": 4,
   "metadata": {},
   "outputs": [],
   "source": [
    "%load_ext autoreload\n",
    "%autoreload 2"
   ]
  },
  {
   "cell_type": "code",
   "execution_count": 2,
   "metadata": {},
   "outputs": [
    {
     "data": {
      "text/plain": [
       "'t'"
      ]
     },
     "execution_count": 2,
     "metadata": {},
     "output_type": "execute_result"
    }
   ],
   "source": [
    "str_ = \"eu vou escolher o caractere \\\"t\\\"\"\n",
    "\n",
    "str_.split(\"\\\"\")[1]"
   ]
  },
  {
   "cell_type": "code",
   "execution_count": 11,
   "metadata": {},
   "outputs": [],
   "source": [
    "def check_guess(guess: str, correct: str) -> bool:\n",
    "    if (guess != correct): # if valid input, but not the correct letter\n",
    "        return False\n",
    "    # correct letter guessed\n",
    "    return True\n",
    "\n",
    "def check_is_valid_guess(guess: str) -> bool:\n",
    "    if len(guess) > 1 or len(guess) == 0:\n",
    "        return False\n",
    "    return True\n",
    "\n",
    "def get_guess(self, guess) -> str:\n",
    "    return guess\n"
   ]
  },
  {
   "cell_type": "code",
   "execution_count": 7,
   "metadata": {},
   "outputs": [
    {
     "name": "stdout",
     "output_type": "stream",
     "text": [
      "A frase que você deve adivinhar tem 4 caracteres.\n",
      "____\n",
      "Qual seu primeiro chute?\n",
      "Vou chutar a letra \"a\".\n",
      "aaaa\n"
     ]
    }
   ],
   "source": [
    "from gpt import API\n",
    "from game import ShannonGame\n",
    "from entropy import *\n",
    "from prompts import *\n",
    "\n",
    "lista_de_palavras = [\"casa\"]\n",
    "api = API()\n",
    "dict_word_to_guess = {}\n",
    "for i in range(1):\n",
    "    sentence = lista_de_palavras[i]\n",
    "    \n",
    "    content = [\n",
    "        {\"role\": \"system\",\"content\": MAINS_INSTRUCTIONS},\n",
    "        {\"role\": \"user\",\"content\": first_chute(len(lista_de_palavras[0]))},\n",
    "    ]\n",
    "    print(first_chute(len(lista_de_palavras[0])))\n",
    "    api.send_message(content)\n",
    "    print(response)\n",
    "    \n",
    "    progress_string = [\"_\"] * len(sentence)\n",
    "    try_num = []\n",
    "\n",
    "    for i, s in enumerate(sentence):\n",
    "        guess_num = 0\n",
    "        is_guess_correct = False\n",
    "        guesses = [] # letters guessed\n",
    "\n",
    "        while not is_guess_correct:\n",
    "            response = api.get_response()\n",
    "            guess = response.split(\"\\\"\")[1]\n",
    "            print(guess)\n",
    "            is_a_valid_guess = check_is_valid_guess(guess)\n",
    "\n",
    "            if not is_a_valid_guess:\n",
    "                aux_prompt = \"Por favor, uma letra por vez.\\n\"\n",
    "            else:\n",
    "                aux_prompt = \"Frase a ser adivinhada: \" + \"\".join(progress_string) + \"\\n\"    \n",
    "                is_guess_correct = check_guess(guess=guess, correct=s)\n",
    "\n",
    "                if is_guess_correct:\n",
    "                    try_num.append(guess_num + 1)\n",
    "                    progress_string[i] = s\n",
    "                    aux_prompt += \"Acertou! \\n\" + \",\".join(map(str, try_num)) + \"\\n\" \n",
    "                    aux_prompt += \"Frase a ser adivinhada: \"\n",
    "                    aux_prompt += \"\" .join(progress_string)\n",
    "                    aux_prompt += f\"Boa tentativa! você escolheu correto com {guess_num + 1} tentativas.\"\n",
    "                else:\n",
    "                    if guess not in guesses:\n",
    "                        guess_num += 1\n",
    "                        guesses.append(guess)\n",
    "                        aux_prompt += f\"Tente novamente! \\nContador de tentativas: {guess_num} \\n\"\n",
    "                        aux_prompt += f\"Tente novamente, por favor! Você tentou {guess_num} vezes até agora.\\n\"\n",
    "                        aux_prompt += \"Caracteres usados até agora: \" + \", \".join(guesses) + \"\\n\"\n",
    "                    else:\n",
    "                        aux_prompt += f\"Você já tentou essa, tente outro!\\n\"\n",
    "\n",
    "            aux_prompt += \"\\nPróximo caractere?\"\n",
    "            \n",
    "            content = [{\"role\": \"user\", \"content\": aux_prompt}]\n",
    "            api.send_message(content)\n",
    "            input(\"CONTINUE\")\n",
    "    \n",
    "    dict_word_to_guess[sentence] = try_num\n",
    "\n"
   ]
  },
  {
   "cell_type": "code",
   "execution_count": 10,
   "metadata": {},
   "outputs": [
    {
     "data": {
      "text/plain": [
       "'a'"
      ]
     },
     "execution_count": 10,
     "metadata": {},
     "output_type": "execute_result"
    }
   ],
   "source": [
    "response.split(\"\\\"\")[1]\n"
   ]
  },
  {
   "cell_type": "code",
   "execution_count": 14,
   "metadata": {},
   "outputs": [
    {
     "name": "stdout",
     "output_type": "stream",
     "text": [
      "Letra: a\n"
     ]
    }
   ],
   "source": [
    "import re\n",
    "response = \"Vou chutar a letra \\'a\\'\"\n",
    "\n",
    "match = re.search(r\"letra\\s+[\\'\\\"](\\w)[\\'\\\"]\", response)\n",
    "if match:\n",
    "    guess = match.group(1)\n",
    "    print(\"Letra:\", guess)\n",
    "else:\n",
    "    print(\"Letra não encontrada.\")"
   ]
  },
  {
   "cell_type": "code",
   "execution_count": 15,
   "metadata": {},
   "outputs": [
    {
     "name": "stdout",
     "output_type": "stream",
     "text": [
      "Frase a ser adivinhada: ____\n",
      "Tente novamente! \n",
      "Contador de tentativas: 1 \n",
      "Tente novamente, por favor! Você tentou 1 vezes até agora.\n",
      "Caracteres usados até agora: a\n",
      "\n",
      "Próximo caractere?\n"
     ]
    }
   ],
   "source": [
    "print('Frase a ser adivinhada: ____\\nTente novamente! \\nContador de tentativas: 1 \\nTente novamente, por favor! Você tentou 1 vezes até agora.\\nCaracteres usados até agora: a\\n\\nPróximo caractere?')"
   ]
  }
 ],
 "metadata": {
  "kernelspec": {
   "display_name": "Python 3",
   "language": "python",
   "name": "python3"
  },
  "language_info": {
   "codemirror_mode": {
    "name": "ipython",
    "version": 3
   },
   "file_extension": ".py",
   "mimetype": "text/x-python",
   "name": "python",
   "nbconvert_exporter": "python",
   "pygments_lexer": "ipython3",
   "version": "3.9.13"
  }
 },
 "nbformat": 4,
 "nbformat_minor": 2
}
