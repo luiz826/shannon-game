{
 "cells": [
  {
   "cell_type": "code",
   "execution_count": 1,
   "metadata": {},
   "outputs": [],
   "source": [
    "import re\n",
    "from unidecode import unidecode\n",
    "import random\n",
    "\n",
    "random.seed(42)"
   ]
  },
  {
   "cell_type": "code",
   "execution_count": 2,
   "metadata": {},
   "outputs": [],
   "source": [
    "# read the sample\n",
    "with open('amostra.txt', 'r') as file:\n",
    "    sample = file.read()"
   ]
  },
  {
   "cell_type": "code",
   "execution_count": 3,
   "metadata": {},
   "outputs": [],
   "source": [
    "def tratar_string(string):\n",
    "    # Remove acentos das letras\n",
    "    string_sem_acentos = unidecode(string)\n",
    "    # Substitui todos os caracteres não desejados por espaços em branco\n",
    "    string_tratada = re.sub(r'[^a-zA-Z\\.\\s]', '', string_sem_acentos)\n",
    "    # Remove espaços extras e converte para minúsculas\n",
    "    string_tratada = ' '.join(string_tratada.split()).lower()\n",
    "    return string_tratada"
   ]
  },
  {
   "cell_type": "code",
   "execution_count": 4,
   "metadata": {},
   "outputs": [
    {
     "name": "stdout",
     "output_type": "stream",
     "text": [
      "O que vós, cidadão atenienses, haveis sentido, com o manejo dos meus\n",
      "acusadores, não sei; certo é qu\n",
      "o que vos cidadao atenienses haveis sentido com o manejo dos meus acusadores nao sei certo e que eu \n"
     ]
    }
   ],
   "source": [
    "sample_tratado = tratar_string(sample)\n",
    "\n",
    "print(sample[:100])\n",
    "print(sample_tratado[:100])"
   ]
  },
  {
   "cell_type": "code",
   "execution_count": 5,
   "metadata": {},
   "outputs": [
    {
     "name": "stdout",
     "output_type": "stream",
     "text": [
      "['o que vos cidadao atenienses haveis sentido com o manejo dos meus acusadores nao sei certo e que eu devido a eles quase me esquecia de mim mesmo tao persuasivamente falavam', ' contudo nao disseram eu o afirmo nada de verdadeiro', ' mas entre as muitas mentiras que divulgaram uma acima de todas eu admiro aquela pela qual disseram que deveis ter cuidado para nao serdes enganados por mim como homem habil no falar']\n"
     ]
    }
   ],
   "source": [
    "frases = sample_tratado.split('.')\n",
    "print(frases[:3])"
   ]
  },
  {
   "cell_type": "code",
   "execution_count": 6,
   "metadata": {},
   "outputs": [],
   "source": [
    "frases_tratadas = [frase.strip() for frase in frases if len(frase) >= 15]"
   ]
  },
  {
   "cell_type": "code",
   "execution_count": 7,
   "metadata": {},
   "outputs": [],
   "source": [
    "n = len(frases_tratadas)\n",
    "indices = list(range(n))\n",
    "random.shuffle(indices)"
   ]
  },
  {
   "cell_type": "code",
   "execution_count": 8,
   "metadata": {},
   "outputs": [],
   "source": [
    "with open('frases.txt', 'w') as file:\n",
    "    for i in range(100):\n",
    "        file.write(frases_tratadas[indices[i]][:15] + '\\n')"
   ]
  }
 ],
 "metadata": {
  "kernelspec": {
   "display_name": "base",
   "language": "python",
   "name": "python3"
  },
  "language_info": {
   "codemirror_mode": {
    "name": "ipython",
    "version": 3
   },
   "file_extension": ".py",
   "mimetype": "text/x-python",
   "name": "python",
   "nbconvert_exporter": "python",
   "pygments_lexer": "ipython3",
   "version": "3.9.13"
  }
 },
 "nbformat": 4,
 "nbformat_minor": 2
}
